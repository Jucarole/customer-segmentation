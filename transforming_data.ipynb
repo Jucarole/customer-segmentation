{
 "metadata": {
  "language_info": {
   "codemirror_mode": {
    "name": "ipython",
    "version": 3
   },
   "file_extension": ".py",
   "mimetype": "text/x-python",
   "name": "python",
   "nbconvert_exporter": "python",
   "pygments_lexer": "ipython3",
   "version": "3.8.10"
  },
  "orig_nbformat": 4,
  "kernelspec": {
   "name": "python3",
   "display_name": "Python 3.8.10 64-bit ('venv': venv)"
  },
  "interpreter": {
   "hash": "dfe2e5d18273290462b4601c4ea69a0ad2931674030ba92b5597d4f165d1583e"
  }
 },
 "nbformat": 4,
 "nbformat_minor": 2,
 "cells": [
  {
   "source": [
    "At now the data is item-customer-centric and I need a customer-centric data to solve the customer segmentation problem, and that means to transform the actual dataset to a new one where each row represents a unique customer whose attributes are listed in other columns.\n",
    "\n",
    "Another challenge is, the description is the only indicator of a product. To solve this problem, I'll cluster product descriptions into a few groups (4 or 5). The values of each one will indicate the total value of the items a customer bought that fit into the respective group."
   ],
   "cell_type": "markdown",
   "metadata": {}
  },
  {
   "source": [
    "# Step 1: Basic cleaning"
   ],
   "cell_type": "markdown",
   "metadata": {}
  },
  {
   "cell_type": "code",
   "execution_count": 112,
   "metadata": {},
   "outputs": [
    {
     "output_type": "execute_result",
     "data": {
      "text/plain": [
       "  InvoiceNo StockCode                          Description  Quantity  \\\n",
       "0    536365    85123A   WHITE HANGING HEART T-LIGHT HOLDER         6   \n",
       "1    536365     71053                  WHITE METAL LANTERN         6   \n",
       "2    536365    84406B       CREAM CUPID HEARTS COAT HANGER         8   \n",
       "3    536365    84029G  KNITTED UNION FLAG HOT WATER BOTTLE         6   \n",
       "4    536365    84029E       RED WOOLLY HOTTIE WHITE HEART.         6   \n",
       "\n",
       "      InvoiceDate  UnitPrice  CustomerID         Country  \n",
       "0  12/1/2010 8:26       2.55     17850.0  United Kingdom  \n",
       "1  12/1/2010 8:26       3.39     17850.0  United Kingdom  \n",
       "2  12/1/2010 8:26       2.75     17850.0  United Kingdom  \n",
       "3  12/1/2010 8:26       3.39     17850.0  United Kingdom  \n",
       "4  12/1/2010 8:26       3.39     17850.0  United Kingdom  "
      ],
      "text/html": "<div>\n<style scoped>\n    .dataframe tbody tr th:only-of-type {\n        vertical-align: middle;\n    }\n\n    .dataframe tbody tr th {\n        vertical-align: top;\n    }\n\n    .dataframe thead th {\n        text-align: right;\n    }\n</style>\n<table border=\"1\" class=\"dataframe\">\n  <thead>\n    <tr style=\"text-align: right;\">\n      <th></th>\n      <th>InvoiceNo</th>\n      <th>StockCode</th>\n      <th>Description</th>\n      <th>Quantity</th>\n      <th>InvoiceDate</th>\n      <th>UnitPrice</th>\n      <th>CustomerID</th>\n      <th>Country</th>\n    </tr>\n  </thead>\n  <tbody>\n    <tr>\n      <th>0</th>\n      <td>536365</td>\n      <td>85123A</td>\n      <td>WHITE HANGING HEART T-LIGHT HOLDER</td>\n      <td>6</td>\n      <td>12/1/2010 8:26</td>\n      <td>2.55</td>\n      <td>17850.0</td>\n      <td>United Kingdom</td>\n    </tr>\n    <tr>\n      <th>1</th>\n      <td>536365</td>\n      <td>71053</td>\n      <td>WHITE METAL LANTERN</td>\n      <td>6</td>\n      <td>12/1/2010 8:26</td>\n      <td>3.39</td>\n      <td>17850.0</td>\n      <td>United Kingdom</td>\n    </tr>\n    <tr>\n      <th>2</th>\n      <td>536365</td>\n      <td>84406B</td>\n      <td>CREAM CUPID HEARTS COAT HANGER</td>\n      <td>8</td>\n      <td>12/1/2010 8:26</td>\n      <td>2.75</td>\n      <td>17850.0</td>\n      <td>United Kingdom</td>\n    </tr>\n    <tr>\n      <th>3</th>\n      <td>536365</td>\n      <td>84029G</td>\n      <td>KNITTED UNION FLAG HOT WATER BOTTLE</td>\n      <td>6</td>\n      <td>12/1/2010 8:26</td>\n      <td>3.39</td>\n      <td>17850.0</td>\n      <td>United Kingdom</td>\n    </tr>\n    <tr>\n      <th>4</th>\n      <td>536365</td>\n      <td>84029E</td>\n      <td>RED WOOLLY HOTTIE WHITE HEART.</td>\n      <td>6</td>\n      <td>12/1/2010 8:26</td>\n      <td>3.39</td>\n      <td>17850.0</td>\n      <td>United Kingdom</td>\n    </tr>\n  </tbody>\n</table>\n</div>"
     },
     "metadata": {},
     "execution_count": 112
    }
   ],
   "source": [
    "import pandas as pd\n",
    "\n",
    "data = pd.read_csv('./data/data.csv', encoding='ISO-8859-1')\n",
    "data.head()"
   ]
  },
  {
   "cell_type": "code",
   "execution_count": 113,
   "metadata": {},
   "outputs": [
    {
     "output_type": "execute_result",
     "data": {
      "text/plain": [
       "4372"
      ]
     },
     "metadata": {},
     "execution_count": 113
    }
   ],
   "source": [
    "# Looking at how many unique customers there are\n",
    "data['CustomerID'].nunique()"
   ]
  },
  {
   "cell_type": "code",
   "execution_count": 114,
   "metadata": {},
   "outputs": [
    {
     "output_type": "execute_result",
     "data": {
      "text/plain": [
       "False    406829\n",
       "True     135080\n",
       "Name: CustomerID, dtype: int64"
      ]
     },
     "metadata": {},
     "execution_count": 114
    }
   ],
   "source": [
    "# And how many customer rows have a NA value\n",
    "data['CustomerID'].isna().value_counts()"
   ]
  },
  {
   "cell_type": "code",
   "execution_count": 115,
   "metadata": {},
   "outputs": [
    {
     "output_type": "stream",
     "name": "stdout",
     "text": [
      "(406829, 8)\n"
     ]
    },
    {
     "output_type": "execute_result",
     "data": {
      "text/plain": [
       "  InvoiceNo StockCode                          Description  Quantity  \\\n",
       "0    536365    85123A   WHITE HANGING HEART T-LIGHT HOLDER         6   \n",
       "1    536365     71053                  WHITE METAL LANTERN         6   \n",
       "2    536365    84406B       CREAM CUPID HEARTS COAT HANGER         8   \n",
       "3    536365    84029G  KNITTED UNION FLAG HOT WATER BOTTLE         6   \n",
       "4    536365    84029E       RED WOOLLY HOTTIE WHITE HEART.         6   \n",
       "\n",
       "      InvoiceDate  UnitPrice  CustomerID         Country  \n",
       "0  12/1/2010 8:26       2.55     17850.0  United Kingdom  \n",
       "1  12/1/2010 8:26       3.39     17850.0  United Kingdom  \n",
       "2  12/1/2010 8:26       2.75     17850.0  United Kingdom  \n",
       "3  12/1/2010 8:26       3.39     17850.0  United Kingdom  \n",
       "4  12/1/2010 8:26       3.39     17850.0  United Kingdom  "
      ],
      "text/html": "<div>\n<style scoped>\n    .dataframe tbody tr th:only-of-type {\n        vertical-align: middle;\n    }\n\n    .dataframe tbody tr th {\n        vertical-align: top;\n    }\n\n    .dataframe thead th {\n        text-align: right;\n    }\n</style>\n<table border=\"1\" class=\"dataframe\">\n  <thead>\n    <tr style=\"text-align: right;\">\n      <th></th>\n      <th>InvoiceNo</th>\n      <th>StockCode</th>\n      <th>Description</th>\n      <th>Quantity</th>\n      <th>InvoiceDate</th>\n      <th>UnitPrice</th>\n      <th>CustomerID</th>\n      <th>Country</th>\n    </tr>\n  </thead>\n  <tbody>\n    <tr>\n      <th>0</th>\n      <td>536365</td>\n      <td>85123A</td>\n      <td>WHITE HANGING HEART T-LIGHT HOLDER</td>\n      <td>6</td>\n      <td>12/1/2010 8:26</td>\n      <td>2.55</td>\n      <td>17850.0</td>\n      <td>United Kingdom</td>\n    </tr>\n    <tr>\n      <th>1</th>\n      <td>536365</td>\n      <td>71053</td>\n      <td>WHITE METAL LANTERN</td>\n      <td>6</td>\n      <td>12/1/2010 8:26</td>\n      <td>3.39</td>\n      <td>17850.0</td>\n      <td>United Kingdom</td>\n    </tr>\n    <tr>\n      <th>2</th>\n      <td>536365</td>\n      <td>84406B</td>\n      <td>CREAM CUPID HEARTS COAT HANGER</td>\n      <td>8</td>\n      <td>12/1/2010 8:26</td>\n      <td>2.75</td>\n      <td>17850.0</td>\n      <td>United Kingdom</td>\n    </tr>\n    <tr>\n      <th>3</th>\n      <td>536365</td>\n      <td>84029G</td>\n      <td>KNITTED UNION FLAG HOT WATER BOTTLE</td>\n      <td>6</td>\n      <td>12/1/2010 8:26</td>\n      <td>3.39</td>\n      <td>17850.0</td>\n      <td>United Kingdom</td>\n    </tr>\n    <tr>\n      <th>4</th>\n      <td>536365</td>\n      <td>84029E</td>\n      <td>RED WOOLLY HOTTIE WHITE HEART.</td>\n      <td>6</td>\n      <td>12/1/2010 8:26</td>\n      <td>3.39</td>\n      <td>17850.0</td>\n      <td>United Kingdom</td>\n    </tr>\n  </tbody>\n</table>\n</div>"
     },
     "metadata": {},
     "execution_count": 115
    }
   ],
   "source": [
    "# Due to this column is the most important and to fill all the missing values could be inaccurate I decide to drop all rows that have NA values\n",
    "data = data.dropna()\n",
    "\n",
    "print(data.shape)\n",
    "data.head()"
   ]
  },
  {
   "cell_type": "code",
   "execution_count": 116,
   "metadata": {},
   "outputs": [
    {
     "output_type": "execute_result",
     "data": {
      "text/plain": [
       "                           Description  Quantity     InvoiceDate  UnitPrice  \\\n",
       "0   WHITE HANGING HEART T-LIGHT HOLDER         6  12/1/2010 8:26       2.55   \n",
       "1                  WHITE METAL LANTERN         6  12/1/2010 8:26       3.39   \n",
       "2       CREAM CUPID HEARTS COAT HANGER         8  12/1/2010 8:26       2.75   \n",
       "3  KNITTED UNION FLAG HOT WATER BOTTLE         6  12/1/2010 8:26       3.39   \n",
       "4       RED WOOLLY HOTTIE WHITE HEART.         6  12/1/2010 8:26       3.39   \n",
       "\n",
       "   CustomerID         Country  \n",
       "0     17850.0  United Kingdom  \n",
       "1     17850.0  United Kingdom  \n",
       "2     17850.0  United Kingdom  \n",
       "3     17850.0  United Kingdom  \n",
       "4     17850.0  United Kingdom  "
      ],
      "text/html": "<div>\n<style scoped>\n    .dataframe tbody tr th:only-of-type {\n        vertical-align: middle;\n    }\n\n    .dataframe tbody tr th {\n        vertical-align: top;\n    }\n\n    .dataframe thead th {\n        text-align: right;\n    }\n</style>\n<table border=\"1\" class=\"dataframe\">\n  <thead>\n    <tr style=\"text-align: right;\">\n      <th></th>\n      <th>Description</th>\n      <th>Quantity</th>\n      <th>InvoiceDate</th>\n      <th>UnitPrice</th>\n      <th>CustomerID</th>\n      <th>Country</th>\n    </tr>\n  </thead>\n  <tbody>\n    <tr>\n      <th>0</th>\n      <td>WHITE HANGING HEART T-LIGHT HOLDER</td>\n      <td>6</td>\n      <td>12/1/2010 8:26</td>\n      <td>2.55</td>\n      <td>17850.0</td>\n      <td>United Kingdom</td>\n    </tr>\n    <tr>\n      <th>1</th>\n      <td>WHITE METAL LANTERN</td>\n      <td>6</td>\n      <td>12/1/2010 8:26</td>\n      <td>3.39</td>\n      <td>17850.0</td>\n      <td>United Kingdom</td>\n    </tr>\n    <tr>\n      <th>2</th>\n      <td>CREAM CUPID HEARTS COAT HANGER</td>\n      <td>8</td>\n      <td>12/1/2010 8:26</td>\n      <td>2.75</td>\n      <td>17850.0</td>\n      <td>United Kingdom</td>\n    </tr>\n    <tr>\n      <th>3</th>\n      <td>KNITTED UNION FLAG HOT WATER BOTTLE</td>\n      <td>6</td>\n      <td>12/1/2010 8:26</td>\n      <td>3.39</td>\n      <td>17850.0</td>\n      <td>United Kingdom</td>\n    </tr>\n    <tr>\n      <th>4</th>\n      <td>RED WOOLLY HOTTIE WHITE HEART.</td>\n      <td>6</td>\n      <td>12/1/2010 8:26</td>\n      <td>3.39</td>\n      <td>17850.0</td>\n      <td>United Kingdom</td>\n    </tr>\n  </tbody>\n</table>\n</div>"
     },
     "metadata": {},
     "execution_count": 116
    }
   ],
   "source": [
    "# For this exercise the InvoiceNo and StockCode columns are irrelevant\n",
    "data.drop(['InvoiceNo','StockCode'],axis=1,inplace=True)\n",
    "data.head()"
   ]
  },
  {
   "cell_type": "code",
   "execution_count": 117,
   "metadata": {},
   "outputs": [
    {
     "output_type": "execute_result",
     "data": {
      "text/plain": [
       "                           Description  Quantity     InvoiceDate  UnitPrice  \\\n",
       "0    white hanging heart tlight holder         6  12/1/2010 8:26       2.55   \n",
       "1                  white metal lantern         6  12/1/2010 8:26       3.39   \n",
       "2       cream cupid hearts coat hanger         8  12/1/2010 8:26       2.75   \n",
       "3  knitted union flag hot water bottle         6  12/1/2010 8:26       3.39   \n",
       "4        red woolly hottie white heart         6  12/1/2010 8:26       3.39   \n",
       "\n",
       "   CustomerID         Country  \n",
       "0     17850.0  United Kingdom  \n",
       "1     17850.0  United Kingdom  \n",
       "2     17850.0  United Kingdom  \n",
       "3     17850.0  United Kingdom  \n",
       "4     17850.0  United Kingdom  "
      ],
      "text/html": "<div>\n<style scoped>\n    .dataframe tbody tr th:only-of-type {\n        vertical-align: middle;\n    }\n\n    .dataframe tbody tr th {\n        vertical-align: top;\n    }\n\n    .dataframe thead th {\n        text-align: right;\n    }\n</style>\n<table border=\"1\" class=\"dataframe\">\n  <thead>\n    <tr style=\"text-align: right;\">\n      <th></th>\n      <th>Description</th>\n      <th>Quantity</th>\n      <th>InvoiceDate</th>\n      <th>UnitPrice</th>\n      <th>CustomerID</th>\n      <th>Country</th>\n    </tr>\n  </thead>\n  <tbody>\n    <tr>\n      <th>0</th>\n      <td>white hanging heart tlight holder</td>\n      <td>6</td>\n      <td>12/1/2010 8:26</td>\n      <td>2.55</td>\n      <td>17850.0</td>\n      <td>United Kingdom</td>\n    </tr>\n    <tr>\n      <th>1</th>\n      <td>white metal lantern</td>\n      <td>6</td>\n      <td>12/1/2010 8:26</td>\n      <td>3.39</td>\n      <td>17850.0</td>\n      <td>United Kingdom</td>\n    </tr>\n    <tr>\n      <th>2</th>\n      <td>cream cupid hearts coat hanger</td>\n      <td>8</td>\n      <td>12/1/2010 8:26</td>\n      <td>2.75</td>\n      <td>17850.0</td>\n      <td>United Kingdom</td>\n    </tr>\n    <tr>\n      <th>3</th>\n      <td>knitted union flag hot water bottle</td>\n      <td>6</td>\n      <td>12/1/2010 8:26</td>\n      <td>3.39</td>\n      <td>17850.0</td>\n      <td>United Kingdom</td>\n    </tr>\n    <tr>\n      <th>4</th>\n      <td>red woolly hottie white heart</td>\n      <td>6</td>\n      <td>12/1/2010 8:26</td>\n      <td>3.39</td>\n      <td>17850.0</td>\n      <td>United Kingdom</td>\n    </tr>\n  </tbody>\n</table>\n</div>"
     },
     "metadata": {},
     "execution_count": 117
    }
   ],
   "source": [
    "# To prepare the Description column for vectorizing, I'll need to make the words lowercase and remove any punctuaction\n",
    "data['Description'] = data['Description'].str.replace(r'[^\\w\\s]','',regex=True).str.lower()\n",
    "data.head()"
   ]
  },
  {
   "cell_type": "code",
   "execution_count": 118,
   "metadata": {},
   "outputs": [],
   "source": [
    "data = data.reset_index().drop('index',axis=1)"
   ]
  },
  {
   "cell_type": "code",
   "execution_count": 119,
   "metadata": {},
   "outputs": [],
   "source": [
    "# In the future I'll need to know the total amount of monet spent on a product\n",
    "data['Total'] = data['UnitPrice'] * data['Quantity']"
   ]
  },
  {
   "source": [
    "# Step 2: Vectorize the Description"
   ],
   "cell_type": "markdown",
   "metadata": {}
  },
  {
   "source": [
    "Given the nature of these descriptions, it's probably best to use bag of words instead of TD-IDF. It seems that every word in the description is a keyword of sorts, so vectorizing it simply with bag of words/count is the best way to go."
   ],
   "cell_type": "markdown",
   "metadata": {}
  },
  {
   "cell_type": "code",
   "execution_count": 120,
   "metadata": {},
   "outputs": [],
   "source": [
    "from sklearn.feature_extraction.text import CountVectorizer\n",
    "\n",
    "vectorizer = CountVectorizer(stop_words='english')"
   ]
  },
  {
   "cell_type": "code",
   "execution_count": 121,
   "metadata": {},
   "outputs": [
    {
     "output_type": "execute_result",
     "data": {
      "text/plain": [
       "(406829, 2093)"
      ]
     },
     "metadata": {},
     "execution_count": 121
    }
   ],
   "source": [
    "descriptions = vectorizer.fit_transform(data['Description'])\n",
    "descriptions.get_shape()"
   ]
  },
  {
   "source": [
    "# Step 3: Cluster the Products and Create Features"
   ],
   "cell_type": "markdown",
   "metadata": {}
  },
  {
   "cell_type": "code",
   "execution_count": 122,
   "metadata": {},
   "outputs": [
    {
     "output_type": "execute_result",
     "data": {
      "text/plain": [
       "KMeans(n_clusters=5)"
      ]
     },
     "metadata": {},
     "execution_count": 122
    }
   ],
   "source": [
    "from sklearn.cluster import KMeans\n",
    "\n",
    "kmeans = KMeans(n_clusters=5)\n",
    "kmeans.fit(descriptions)"
   ]
  },
  {
   "cell_type": "code",
   "execution_count": 123,
   "metadata": {},
   "outputs": [
    {
     "output_type": "execute_result",
     "data": {
      "text/plain": [
       "                           Description  Quantity     InvoiceDate  UnitPrice  \\\n",
       "0    white hanging heart tlight holder         6  12/1/2010 8:26       2.55   \n",
       "1                  white metal lantern         6  12/1/2010 8:26       3.39   \n",
       "2       cream cupid hearts coat hanger         8  12/1/2010 8:26       2.75   \n",
       "3  knitted union flag hot water bottle         6  12/1/2010 8:26       3.39   \n",
       "4        red woolly hottie white heart         6  12/1/2010 8:26       3.39   \n",
       "\n",
       "   CustomerID         Country  Total  Product  \n",
       "0     17850.0  United Kingdom  15.30        1  \n",
       "1     17850.0  United Kingdom  20.34        2  \n",
       "2     17850.0  United Kingdom  22.00        2  \n",
       "3     17850.0  United Kingdom  20.34        2  \n",
       "4     17850.0  United Kingdom  20.34        1  "
      ],
      "text/html": "<div>\n<style scoped>\n    .dataframe tbody tr th:only-of-type {\n        vertical-align: middle;\n    }\n\n    .dataframe tbody tr th {\n        vertical-align: top;\n    }\n\n    .dataframe thead th {\n        text-align: right;\n    }\n</style>\n<table border=\"1\" class=\"dataframe\">\n  <thead>\n    <tr style=\"text-align: right;\">\n      <th></th>\n      <th>Description</th>\n      <th>Quantity</th>\n      <th>InvoiceDate</th>\n      <th>UnitPrice</th>\n      <th>CustomerID</th>\n      <th>Country</th>\n      <th>Total</th>\n      <th>Product</th>\n    </tr>\n  </thead>\n  <tbody>\n    <tr>\n      <th>0</th>\n      <td>white hanging heart tlight holder</td>\n      <td>6</td>\n      <td>12/1/2010 8:26</td>\n      <td>2.55</td>\n      <td>17850.0</td>\n      <td>United Kingdom</td>\n      <td>15.30</td>\n      <td>1</td>\n    </tr>\n    <tr>\n      <th>1</th>\n      <td>white metal lantern</td>\n      <td>6</td>\n      <td>12/1/2010 8:26</td>\n      <td>3.39</td>\n      <td>17850.0</td>\n      <td>United Kingdom</td>\n      <td>20.34</td>\n      <td>2</td>\n    </tr>\n    <tr>\n      <th>2</th>\n      <td>cream cupid hearts coat hanger</td>\n      <td>8</td>\n      <td>12/1/2010 8:26</td>\n      <td>2.75</td>\n      <td>17850.0</td>\n      <td>United Kingdom</td>\n      <td>22.00</td>\n      <td>2</td>\n    </tr>\n    <tr>\n      <th>3</th>\n      <td>knitted union flag hot water bottle</td>\n      <td>6</td>\n      <td>12/1/2010 8:26</td>\n      <td>3.39</td>\n      <td>17850.0</td>\n      <td>United Kingdom</td>\n      <td>20.34</td>\n      <td>2</td>\n    </tr>\n    <tr>\n      <th>4</th>\n      <td>red woolly hottie white heart</td>\n      <td>6</td>\n      <td>12/1/2010 8:26</td>\n      <td>3.39</td>\n      <td>17850.0</td>\n      <td>United Kingdom</td>\n      <td>20.34</td>\n      <td>1</td>\n    </tr>\n  </tbody>\n</table>\n</div>"
     },
     "metadata": {},
     "execution_count": 123
    }
   ],
   "source": [
    "data['Product'] = kmeans.labels_\n",
    "data.head()"
   ]
  },
  {
   "source": [
    "### And now it's time to create the customer-centric data"
   ],
   "cell_type": "markdown",
   "metadata": {}
  },
  {
   "cell_type": "code",
   "execution_count": 124,
   "metadata": {},
   "outputs": [
    {
     "output_type": "execute_result",
     "data": {
      "text/plain": [
       "Product          0       1        2       3       4\n",
       "CustomerID                                         \n",
       "12346.0        NaN     NaN     0.00     NaN     NaN\n",
       "12347.0     153.90  145.44  2962.26  561.00  487.40\n",
       "12348.0     191.00     NaN  1500.88   63.60   41.76\n",
       "12349.0     244.87  127.95  1041.44  101.49  241.80\n",
       "12350.0        NaN     NaN   279.20   19.80   35.40"
      ],
      "text/html": "<div>\n<style scoped>\n    .dataframe tbody tr th:only-of-type {\n        vertical-align: middle;\n    }\n\n    .dataframe tbody tr th {\n        vertical-align: top;\n    }\n\n    .dataframe thead th {\n        text-align: right;\n    }\n</style>\n<table border=\"1\" class=\"dataframe\">\n  <thead>\n    <tr style=\"text-align: right;\">\n      <th>Product</th>\n      <th>0</th>\n      <th>1</th>\n      <th>2</th>\n      <th>3</th>\n      <th>4</th>\n    </tr>\n    <tr>\n      <th>CustomerID</th>\n      <th></th>\n      <th></th>\n      <th></th>\n      <th></th>\n      <th></th>\n    </tr>\n  </thead>\n  <tbody>\n    <tr>\n      <th>12346.0</th>\n      <td>NaN</td>\n      <td>NaN</td>\n      <td>0.00</td>\n      <td>NaN</td>\n      <td>NaN</td>\n    </tr>\n    <tr>\n      <th>12347.0</th>\n      <td>153.90</td>\n      <td>145.44</td>\n      <td>2962.26</td>\n      <td>561.00</td>\n      <td>487.40</td>\n    </tr>\n    <tr>\n      <th>12348.0</th>\n      <td>191.00</td>\n      <td>NaN</td>\n      <td>1500.88</td>\n      <td>63.60</td>\n      <td>41.76</td>\n    </tr>\n    <tr>\n      <th>12349.0</th>\n      <td>244.87</td>\n      <td>127.95</td>\n      <td>1041.44</td>\n      <td>101.49</td>\n      <td>241.80</td>\n    </tr>\n    <tr>\n      <th>12350.0</th>\n      <td>NaN</td>\n      <td>NaN</td>\n      <td>279.20</td>\n      <td>19.80</td>\n      <td>35.40</td>\n    </tr>\n  </tbody>\n</table>\n</div>"
     },
     "metadata": {},
     "execution_count": 124
    }
   ],
   "source": [
    "import numpy as np\n",
    "custom1 = data.pivot_table(values='Total',index='CustomerID', columns='Product', aggfunc=np.sum)\n",
    "custom1.head()"
   ]
  },
  {
   "cell_type": "code",
   "execution_count": 125,
   "metadata": {},
   "outputs": [
    {
     "output_type": "execute_result",
     "data": {
      "text/plain": [
       "Product          0       1        2       3       4\n",
       "CustomerID                                         \n",
       "12346.0       0.00    0.00     0.00    0.00    0.00\n",
       "12347.0     153.90  145.44  2962.26  561.00  487.40\n",
       "12348.0     191.00    0.00  1500.88   63.60   41.76\n",
       "12349.0     244.87  127.95  1041.44  101.49  241.80\n",
       "12350.0       0.00    0.00   279.20   19.80   35.40"
      ],
      "text/html": "<div>\n<style scoped>\n    .dataframe tbody tr th:only-of-type {\n        vertical-align: middle;\n    }\n\n    .dataframe tbody tr th {\n        vertical-align: top;\n    }\n\n    .dataframe thead th {\n        text-align: right;\n    }\n</style>\n<table border=\"1\" class=\"dataframe\">\n  <thead>\n    <tr style=\"text-align: right;\">\n      <th>Product</th>\n      <th>0</th>\n      <th>1</th>\n      <th>2</th>\n      <th>3</th>\n      <th>4</th>\n    </tr>\n    <tr>\n      <th>CustomerID</th>\n      <th></th>\n      <th></th>\n      <th></th>\n      <th></th>\n      <th></th>\n    </tr>\n  </thead>\n  <tbody>\n    <tr>\n      <th>12346.0</th>\n      <td>0.00</td>\n      <td>0.00</td>\n      <td>0.00</td>\n      <td>0.00</td>\n      <td>0.00</td>\n    </tr>\n    <tr>\n      <th>12347.0</th>\n      <td>153.90</td>\n      <td>145.44</td>\n      <td>2962.26</td>\n      <td>561.00</td>\n      <td>487.40</td>\n    </tr>\n    <tr>\n      <th>12348.0</th>\n      <td>191.00</td>\n      <td>0.00</td>\n      <td>1500.88</td>\n      <td>63.60</td>\n      <td>41.76</td>\n    </tr>\n    <tr>\n      <th>12349.0</th>\n      <td>244.87</td>\n      <td>127.95</td>\n      <td>1041.44</td>\n      <td>101.49</td>\n      <td>241.80</td>\n    </tr>\n    <tr>\n      <th>12350.0</th>\n      <td>0.00</td>\n      <td>0.00</td>\n      <td>279.20</td>\n      <td>19.80</td>\n      <td>35.40</td>\n    </tr>\n  </tbody>\n</table>\n</div>"
     },
     "metadata": {},
     "execution_count": 125
    }
   ],
   "source": [
    "custom1.fillna(value=0, inplace=True)\n",
    "custom1.head()"
   ]
  },
  {
   "cell_type": "code",
   "execution_count": 126,
   "metadata": {},
   "outputs": [
    {
     "output_type": "execute_result",
     "data": {
      "text/plain": [
       "   CustomerID\n",
       "0     12346.0\n",
       "1     12347.0\n",
       "2     12348.0\n",
       "3     12349.0\n",
       "4     12350.0"
      ],
      "text/html": "<div>\n<style scoped>\n    .dataframe tbody tr th:only-of-type {\n        vertical-align: middle;\n    }\n\n    .dataframe tbody tr th {\n        vertical-align: top;\n    }\n\n    .dataframe thead th {\n        text-align: right;\n    }\n</style>\n<table border=\"1\" class=\"dataframe\">\n  <thead>\n    <tr style=\"text-align: right;\">\n      <th></th>\n      <th>CustomerID</th>\n    </tr>\n  </thead>\n  <tbody>\n    <tr>\n      <th>0</th>\n      <td>12346.0</td>\n    </tr>\n    <tr>\n      <th>1</th>\n      <td>12347.0</td>\n    </tr>\n    <tr>\n      <th>2</th>\n      <td>12348.0</td>\n    </tr>\n    <tr>\n      <th>3</th>\n      <td>12349.0</td>\n    </tr>\n    <tr>\n      <th>4</th>\n      <td>12350.0</td>\n    </tr>\n  </tbody>\n</table>\n</div>"
     },
     "metadata": {},
     "execution_count": 126
    }
   ],
   "source": [
    "customers = pd.DataFrame({'CustomerID' : data['CustomerID'].unique()})\n",
    "customers.sort_values(by='CustomerID',inplace=True)\n",
    "customers.reset_index(drop=True,inplace=True)\n",
    "customers.head()"
   ]
  },
  {
   "cell_type": "code",
   "execution_count": 127,
   "metadata": {},
   "outputs": [
    {
     "output_type": "execute_result",
     "data": {
      "text/plain": [
       "   CustomerID  Products0  Products1  Products2  Products3  Products4\n",
       "0     12346.0       0.00       0.00       0.00       0.00       0.00\n",
       "1     12347.0     153.90     145.44    2962.26     561.00     487.40\n",
       "2     12348.0     191.00       0.00    1500.88      63.60      41.76\n",
       "3     12349.0     244.87     127.95    1041.44     101.49     241.80\n",
       "4     12350.0       0.00       0.00     279.20      19.80      35.40"
      ],
      "text/html": "<div>\n<style scoped>\n    .dataframe tbody tr th:only-of-type {\n        vertical-align: middle;\n    }\n\n    .dataframe tbody tr th {\n        vertical-align: top;\n    }\n\n    .dataframe thead th {\n        text-align: right;\n    }\n</style>\n<table border=\"1\" class=\"dataframe\">\n  <thead>\n    <tr style=\"text-align: right;\">\n      <th></th>\n      <th>CustomerID</th>\n      <th>Products0</th>\n      <th>Products1</th>\n      <th>Products2</th>\n      <th>Products3</th>\n      <th>Products4</th>\n    </tr>\n  </thead>\n  <tbody>\n    <tr>\n      <th>0</th>\n      <td>12346.0</td>\n      <td>0.00</td>\n      <td>0.00</td>\n      <td>0.00</td>\n      <td>0.00</td>\n      <td>0.00</td>\n    </tr>\n    <tr>\n      <th>1</th>\n      <td>12347.0</td>\n      <td>153.90</td>\n      <td>145.44</td>\n      <td>2962.26</td>\n      <td>561.00</td>\n      <td>487.40</td>\n    </tr>\n    <tr>\n      <th>2</th>\n      <td>12348.0</td>\n      <td>191.00</td>\n      <td>0.00</td>\n      <td>1500.88</td>\n      <td>63.60</td>\n      <td>41.76</td>\n    </tr>\n    <tr>\n      <th>3</th>\n      <td>12349.0</td>\n      <td>244.87</td>\n      <td>127.95</td>\n      <td>1041.44</td>\n      <td>101.49</td>\n      <td>241.80</td>\n    </tr>\n    <tr>\n      <th>4</th>\n      <td>12350.0</td>\n      <td>0.00</td>\n      <td>0.00</td>\n      <td>279.20</td>\n      <td>19.80</td>\n      <td>35.40</td>\n    </tr>\n  </tbody>\n</table>\n</div>"
     },
     "metadata": {},
     "execution_count": 127
    }
   ],
   "source": [
    "customers = customers.assign(\n",
    "    Products0 = custom1[0].values,\n",
    "    Products1 = custom1[1].values,\n",
    "    Products2 = custom1[2].values,\n",
    "    Products3 = custom1[3].values,\n",
    "    Products4 = custom1[4].values\n",
    ")\n",
    "customers.head()"
   ]
  },
  {
   "source": [
    "# Step 4: Creating Purchasing History Descriptions"
   ],
   "cell_type": "markdown",
   "metadata": {}
  },
  {
   "cell_type": "code",
   "execution_count": 128,
   "metadata": {},
   "outputs": [
    {
     "output_type": "execute_result",
     "data": {
      "text/plain": [
       "            count       min      max       mean      sum\n",
       "CustomerID                                              \n",
       "12346.0         2 -77183.60  77183.6   0.000000     0.00\n",
       "12347.0       182      5.04    249.6  23.681319  4310.00\n",
       "12348.0        31     13.20    240.0  57.975484  1797.24\n",
       "12349.0        73      6.64    300.0  24.076027  1757.55\n",
       "12350.0        17      8.50     40.0  19.670588   334.40"
      ],
      "text/html": "<div>\n<style scoped>\n    .dataframe tbody tr th:only-of-type {\n        vertical-align: middle;\n    }\n\n    .dataframe tbody tr th {\n        vertical-align: top;\n    }\n\n    .dataframe thead th {\n        text-align: right;\n    }\n</style>\n<table border=\"1\" class=\"dataframe\">\n  <thead>\n    <tr style=\"text-align: right;\">\n      <th></th>\n      <th>count</th>\n      <th>min</th>\n      <th>max</th>\n      <th>mean</th>\n      <th>sum</th>\n    </tr>\n    <tr>\n      <th>CustomerID</th>\n      <th></th>\n      <th></th>\n      <th></th>\n      <th></th>\n      <th></th>\n    </tr>\n  </thead>\n  <tbody>\n    <tr>\n      <th>12346.0</th>\n      <td>2</td>\n      <td>-77183.60</td>\n      <td>77183.6</td>\n      <td>0.000000</td>\n      <td>0.00</td>\n    </tr>\n    <tr>\n      <th>12347.0</th>\n      <td>182</td>\n      <td>5.04</td>\n      <td>249.6</td>\n      <td>23.681319</td>\n      <td>4310.00</td>\n    </tr>\n    <tr>\n      <th>12348.0</th>\n      <td>31</td>\n      <td>13.20</td>\n      <td>240.0</td>\n      <td>57.975484</td>\n      <td>1797.24</td>\n    </tr>\n    <tr>\n      <th>12349.0</th>\n      <td>73</td>\n      <td>6.64</td>\n      <td>300.0</td>\n      <td>24.076027</td>\n      <td>1757.55</td>\n    </tr>\n    <tr>\n      <th>12350.0</th>\n      <td>17</td>\n      <td>8.50</td>\n      <td>40.0</td>\n      <td>19.670588</td>\n      <td>334.40</td>\n    </tr>\n  </tbody>\n</table>\n</div>"
     },
     "metadata": {},
     "execution_count": 128
    }
   ],
   "source": [
    "custom2 = data.groupby(by='CustomerID')['Total'].agg(['count','min','max','mean','sum'])\n",
    "custom2.head()"
   ]
  },
  {
   "cell_type": "code",
   "execution_count": 129,
   "metadata": {},
   "outputs": [
    {
     "output_type": "execute_result",
     "data": {
      "text/plain": [
       "   CustomerID  Products0  Products1  Products2  Products3  Products4  \\\n",
       "0     12346.0       0.00       0.00       0.00       0.00       0.00   \n",
       "1     12347.0     153.90     145.44    2962.26     561.00     487.40   \n",
       "2     12348.0     191.00       0.00    1500.88      63.60      41.76   \n",
       "3     12349.0     244.87     127.95    1041.44     101.49     241.80   \n",
       "4     12350.0       0.00       0.00     279.20      19.80      35.40   \n",
       "\n",
       "   PurchaseCount  PurchaseMin  PurchaseMax  PurchaseMean  PurchaseSum  \n",
       "0              2    -77183.60      77183.6      0.000000         0.00  \n",
       "1            182         5.04        249.6     23.681319      4310.00  \n",
       "2             31        13.20        240.0     57.975484      1797.24  \n",
       "3             73         6.64        300.0     24.076027      1757.55  \n",
       "4             17         8.50         40.0     19.670588       334.40  "
      ],
      "text/html": "<div>\n<style scoped>\n    .dataframe tbody tr th:only-of-type {\n        vertical-align: middle;\n    }\n\n    .dataframe tbody tr th {\n        vertical-align: top;\n    }\n\n    .dataframe thead th {\n        text-align: right;\n    }\n</style>\n<table border=\"1\" class=\"dataframe\">\n  <thead>\n    <tr style=\"text-align: right;\">\n      <th></th>\n      <th>CustomerID</th>\n      <th>Products0</th>\n      <th>Products1</th>\n      <th>Products2</th>\n      <th>Products3</th>\n      <th>Products4</th>\n      <th>PurchaseCount</th>\n      <th>PurchaseMin</th>\n      <th>PurchaseMax</th>\n      <th>PurchaseMean</th>\n      <th>PurchaseSum</th>\n    </tr>\n  </thead>\n  <tbody>\n    <tr>\n      <th>0</th>\n      <td>12346.0</td>\n      <td>0.00</td>\n      <td>0.00</td>\n      <td>0.00</td>\n      <td>0.00</td>\n      <td>0.00</td>\n      <td>2</td>\n      <td>-77183.60</td>\n      <td>77183.6</td>\n      <td>0.000000</td>\n      <td>0.00</td>\n    </tr>\n    <tr>\n      <th>1</th>\n      <td>12347.0</td>\n      <td>153.90</td>\n      <td>145.44</td>\n      <td>2962.26</td>\n      <td>561.00</td>\n      <td>487.40</td>\n      <td>182</td>\n      <td>5.04</td>\n      <td>249.6</td>\n      <td>23.681319</td>\n      <td>4310.00</td>\n    </tr>\n    <tr>\n      <th>2</th>\n      <td>12348.0</td>\n      <td>191.00</td>\n      <td>0.00</td>\n      <td>1500.88</td>\n      <td>63.60</td>\n      <td>41.76</td>\n      <td>31</td>\n      <td>13.20</td>\n      <td>240.0</td>\n      <td>57.975484</td>\n      <td>1797.24</td>\n    </tr>\n    <tr>\n      <th>3</th>\n      <td>12349.0</td>\n      <td>244.87</td>\n      <td>127.95</td>\n      <td>1041.44</td>\n      <td>101.49</td>\n      <td>241.80</td>\n      <td>73</td>\n      <td>6.64</td>\n      <td>300.0</td>\n      <td>24.076027</td>\n      <td>1757.55</td>\n    </tr>\n    <tr>\n      <th>4</th>\n      <td>12350.0</td>\n      <td>0.00</td>\n      <td>0.00</td>\n      <td>279.20</td>\n      <td>19.80</td>\n      <td>35.40</td>\n      <td>17</td>\n      <td>8.50</td>\n      <td>40.0</td>\n      <td>19.670588</td>\n      <td>334.40</td>\n    </tr>\n  </tbody>\n</table>\n</div>"
     },
     "metadata": {},
     "execution_count": 129
    }
   ],
   "source": [
    "customers = customers.assign(\n",
    "    PurchaseCount = custom2['count'].values,\n",
    "    PurchaseMin = custom2['min'].values,\n",
    "    PurchaseMax = custom2['max'].values,\n",
    "    PurchaseMean = custom2['mean'].values,\n",
    "    PurchaseSum = custom2['sum'].values\n",
    ")\n",
    "customers.head()"
   ]
  },
  {
   "source": [
    "# Step 5: Creating a binary 'foreign' faeture"
   ],
   "cell_type": "markdown",
   "metadata": {}
  },
  {
   "cell_type": "code",
   "execution_count": 130,
   "metadata": {},
   "outputs": [
    {
     "output_type": "execute_result",
     "data": {
      "text/plain": [
       "                           Description  Quantity     InvoiceDate  UnitPrice  \\\n",
       "0    white hanging heart tlight holder         6  12/1/2010 8:26       2.55   \n",
       "1                  white metal lantern         6  12/1/2010 8:26       3.39   \n",
       "2       cream cupid hearts coat hanger         8  12/1/2010 8:26       2.75   \n",
       "3  knitted union flag hot water bottle         6  12/1/2010 8:26       3.39   \n",
       "4        red woolly hottie white heart         6  12/1/2010 8:26       3.39   \n",
       "\n",
       "   CustomerID         Country  Total  Product  Foreign  \n",
       "0     17850.0  United Kingdom  15.30        1        0  \n",
       "1     17850.0  United Kingdom  20.34        2        0  \n",
       "2     17850.0  United Kingdom  22.00        2        0  \n",
       "3     17850.0  United Kingdom  20.34        2        0  \n",
       "4     17850.0  United Kingdom  20.34        1        0  "
      ],
      "text/html": "<div>\n<style scoped>\n    .dataframe tbody tr th:only-of-type {\n        vertical-align: middle;\n    }\n\n    .dataframe tbody tr th {\n        vertical-align: top;\n    }\n\n    .dataframe thead th {\n        text-align: right;\n    }\n</style>\n<table border=\"1\" class=\"dataframe\">\n  <thead>\n    <tr style=\"text-align: right;\">\n      <th></th>\n      <th>Description</th>\n      <th>Quantity</th>\n      <th>InvoiceDate</th>\n      <th>UnitPrice</th>\n      <th>CustomerID</th>\n      <th>Country</th>\n      <th>Total</th>\n      <th>Product</th>\n      <th>Foreign</th>\n    </tr>\n  </thead>\n  <tbody>\n    <tr>\n      <th>0</th>\n      <td>white hanging heart tlight holder</td>\n      <td>6</td>\n      <td>12/1/2010 8:26</td>\n      <td>2.55</td>\n      <td>17850.0</td>\n      <td>United Kingdom</td>\n      <td>15.30</td>\n      <td>1</td>\n      <td>0</td>\n    </tr>\n    <tr>\n      <th>1</th>\n      <td>white metal lantern</td>\n      <td>6</td>\n      <td>12/1/2010 8:26</td>\n      <td>3.39</td>\n      <td>17850.0</td>\n      <td>United Kingdom</td>\n      <td>20.34</td>\n      <td>2</td>\n      <td>0</td>\n    </tr>\n    <tr>\n      <th>2</th>\n      <td>cream cupid hearts coat hanger</td>\n      <td>8</td>\n      <td>12/1/2010 8:26</td>\n      <td>2.75</td>\n      <td>17850.0</td>\n      <td>United Kingdom</td>\n      <td>22.00</td>\n      <td>2</td>\n      <td>0</td>\n    </tr>\n    <tr>\n      <th>3</th>\n      <td>knitted union flag hot water bottle</td>\n      <td>6</td>\n      <td>12/1/2010 8:26</td>\n      <td>3.39</td>\n      <td>17850.0</td>\n      <td>United Kingdom</td>\n      <td>20.34</td>\n      <td>2</td>\n      <td>0</td>\n    </tr>\n    <tr>\n      <th>4</th>\n      <td>red woolly hottie white heart</td>\n      <td>6</td>\n      <td>12/1/2010 8:26</td>\n      <td>3.39</td>\n      <td>17850.0</td>\n      <td>United Kingdom</td>\n      <td>20.34</td>\n      <td>1</td>\n      <td>0</td>\n    </tr>\n  </tbody>\n</table>\n</div>"
     },
     "metadata": {},
     "execution_count": 130
    }
   ],
   "source": [
    "foreign_c = -data['Country'].isin(['United Kingdom'])\n",
    "foreign_c = foreign_c.astype('int')\n",
    "\n",
    "data['Foreign'] = foreign_c\n",
    "data.head()"
   ]
  },
  {
   "cell_type": "code",
   "execution_count": 131,
   "metadata": {},
   "outputs": [
    {
     "output_type": "execute_result",
     "data": {
      "text/plain": [
       "   CustomerID  Products0  Products1  Products2  Products3  Products4  \\\n",
       "0     12346.0       0.00       0.00       0.00       0.00       0.00   \n",
       "1     12347.0     153.90     145.44    2962.26     561.00     487.40   \n",
       "2     12348.0     191.00       0.00    1500.88      63.60      41.76   \n",
       "3     12349.0     244.87     127.95    1041.44     101.49     241.80   \n",
       "4     12350.0       0.00       0.00     279.20      19.80      35.40   \n",
       "\n",
       "   PurchaseCount  PurchaseMin  PurchaseMax  PurchaseMean  PurchaseSum  Foreign  \n",
       "0              2    -77183.60      77183.6      0.000000         0.00        0  \n",
       "1            182         5.04        249.6     23.681319      4310.00        1  \n",
       "2             31        13.20        240.0     57.975484      1797.24        1  \n",
       "3             73         6.64        300.0     24.076027      1757.55        1  \n",
       "4             17         8.50         40.0     19.670588       334.40        1  "
      ],
      "text/html": "<div>\n<style scoped>\n    .dataframe tbody tr th:only-of-type {\n        vertical-align: middle;\n    }\n\n    .dataframe tbody tr th {\n        vertical-align: top;\n    }\n\n    .dataframe thead th {\n        text-align: right;\n    }\n</style>\n<table border=\"1\" class=\"dataframe\">\n  <thead>\n    <tr style=\"text-align: right;\">\n      <th></th>\n      <th>CustomerID</th>\n      <th>Products0</th>\n      <th>Products1</th>\n      <th>Products2</th>\n      <th>Products3</th>\n      <th>Products4</th>\n      <th>PurchaseCount</th>\n      <th>PurchaseMin</th>\n      <th>PurchaseMax</th>\n      <th>PurchaseMean</th>\n      <th>PurchaseSum</th>\n      <th>Foreign</th>\n    </tr>\n  </thead>\n  <tbody>\n    <tr>\n      <th>0</th>\n      <td>12346.0</td>\n      <td>0.00</td>\n      <td>0.00</td>\n      <td>0.00</td>\n      <td>0.00</td>\n      <td>0.00</td>\n      <td>2</td>\n      <td>-77183.60</td>\n      <td>77183.6</td>\n      <td>0.000000</td>\n      <td>0.00</td>\n      <td>0</td>\n    </tr>\n    <tr>\n      <th>1</th>\n      <td>12347.0</td>\n      <td>153.90</td>\n      <td>145.44</td>\n      <td>2962.26</td>\n      <td>561.00</td>\n      <td>487.40</td>\n      <td>182</td>\n      <td>5.04</td>\n      <td>249.6</td>\n      <td>23.681319</td>\n      <td>4310.00</td>\n      <td>1</td>\n    </tr>\n    <tr>\n      <th>2</th>\n      <td>12348.0</td>\n      <td>191.00</td>\n      <td>0.00</td>\n      <td>1500.88</td>\n      <td>63.60</td>\n      <td>41.76</td>\n      <td>31</td>\n      <td>13.20</td>\n      <td>240.0</td>\n      <td>57.975484</td>\n      <td>1797.24</td>\n      <td>1</td>\n    </tr>\n    <tr>\n      <th>3</th>\n      <td>12349.0</td>\n      <td>244.87</td>\n      <td>127.95</td>\n      <td>1041.44</td>\n      <td>101.49</td>\n      <td>241.80</td>\n      <td>73</td>\n      <td>6.64</td>\n      <td>300.0</td>\n      <td>24.076027</td>\n      <td>1757.55</td>\n      <td>1</td>\n    </tr>\n    <tr>\n      <th>4</th>\n      <td>12350.0</td>\n      <td>0.00</td>\n      <td>0.00</td>\n      <td>279.20</td>\n      <td>19.80</td>\n      <td>35.40</td>\n      <td>17</td>\n      <td>8.50</td>\n      <td>40.0</td>\n      <td>19.670588</td>\n      <td>334.40</td>\n      <td>1</td>\n    </tr>\n  </tbody>\n</table>\n</div>"
     },
     "metadata": {},
     "execution_count": 131
    }
   ],
   "source": [
    "customers['Foreign'] = data.groupby('CustomerID')['Foreign'].mean().astype('int').values\n",
    "customers.head()"
   ]
  },
  {
   "cell_type": "code",
   "execution_count": 132,
   "metadata": {},
   "outputs": [
    {
     "output_type": "execute_result",
     "data": {
      "text/plain": [
       "0    3950\n",
       "1     422\n",
       "Name: Foreign, dtype: int64"
      ]
     },
     "metadata": {},
     "execution_count": 132
    }
   ],
   "source": [
    "customers['Foreign'].value_counts()"
   ]
  },
  {
   "cell_type": "code",
   "execution_count": 134,
   "metadata": {},
   "outputs": [],
   "source": [
    "data.to_csv('./data/new_data.csv',index=False)\n",
    "customers.to_csv('./data/customers.csv',index=False)"
   ]
  },
  {
   "cell_type": "code",
   "execution_count": null,
   "metadata": {},
   "outputs": [],
   "source": []
  }
 ]
}