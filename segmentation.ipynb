{
 "cells": [
  {
   "cell_type": "markdown",
   "metadata": {},
   "source": [
    "Because K Means is distance-based, it's necessary to scale the data"
   ]
  },
  {
   "cell_type": "code",
   "execution_count": 1,
   "metadata": {},
   "outputs": [
    {
     "data": {
      "text/html": [
       "<div>\n",
       "<style scoped>\n",
       "    .dataframe tbody tr th:only-of-type {\n",
       "        vertical-align: middle;\n",
       "    }\n",
       "\n",
       "    .dataframe tbody tr th {\n",
       "        vertical-align: top;\n",
       "    }\n",
       "\n",
       "    .dataframe thead th {\n",
       "        text-align: right;\n",
       "    }\n",
       "</style>\n",
       "<table border=\"1\" class=\"dataframe\">\n",
       "  <thead>\n",
       "    <tr style=\"text-align: right;\">\n",
       "      <th></th>\n",
       "      <th>CustomerID</th>\n",
       "      <th>Products0</th>\n",
       "      <th>Products1</th>\n",
       "      <th>Products2</th>\n",
       "      <th>Products3</th>\n",
       "      <th>Products4</th>\n",
       "      <th>PurchaseCount</th>\n",
       "      <th>PurchaseMin</th>\n",
       "      <th>PurchaseMax</th>\n",
       "      <th>PurchaseMean</th>\n",
       "      <th>PurchaseSum</th>\n",
       "      <th>Foreign</th>\n",
       "    </tr>\n",
       "  </thead>\n",
       "  <tbody>\n",
       "    <tr>\n",
       "      <th>0</th>\n",
       "      <td>12347.0</td>\n",
       "      <td>408.90</td>\n",
       "      <td>2796.26</td>\n",
       "      <td>105.80</td>\n",
       "      <td>459.7</td>\n",
       "      <td>539.34</td>\n",
       "      <td>182</td>\n",
       "      <td>5.04</td>\n",
       "      <td>249.6</td>\n",
       "      <td>23.681319</td>\n",
       "      <td>4310.00</td>\n",
       "      <td>1</td>\n",
       "    </tr>\n",
       "    <tr>\n",
       "      <th>1</th>\n",
       "      <td>12348.0</td>\n",
       "      <td>524.60</td>\n",
       "      <td>1230.88</td>\n",
       "      <td>41.76</td>\n",
       "      <td>0.0</td>\n",
       "      <td>0.00</td>\n",
       "      <td>31</td>\n",
       "      <td>13.20</td>\n",
       "      <td>240.0</td>\n",
       "      <td>57.975484</td>\n",
       "      <td>1797.24</td>\n",
       "      <td>1</td>\n",
       "    </tr>\n",
       "    <tr>\n",
       "      <th>2</th>\n",
       "      <td>12349.0</td>\n",
       "      <td>244.87</td>\n",
       "      <td>1145.48</td>\n",
       "      <td>138.15</td>\n",
       "      <td>0.0</td>\n",
       "      <td>229.05</td>\n",
       "      <td>73</td>\n",
       "      <td>6.64</td>\n",
       "      <td>300.0</td>\n",
       "      <td>24.076027</td>\n",
       "      <td>1757.55</td>\n",
       "      <td>1</td>\n",
       "    </tr>\n",
       "    <tr>\n",
       "      <th>3</th>\n",
       "      <td>12350.0</td>\n",
       "      <td>0.00</td>\n",
       "      <td>299.00</td>\n",
       "      <td>20.40</td>\n",
       "      <td>0.0</td>\n",
       "      <td>15.00</td>\n",
       "      <td>17</td>\n",
       "      <td>8.50</td>\n",
       "      <td>40.0</td>\n",
       "      <td>19.670588</td>\n",
       "      <td>334.40</td>\n",
       "      <td>1</td>\n",
       "    </tr>\n",
       "    <tr>\n",
       "      <th>4</th>\n",
       "      <td>12352.0</td>\n",
       "      <td>257.60</td>\n",
       "      <td>1214.61</td>\n",
       "      <td>0.00</td>\n",
       "      <td>0.0</td>\n",
       "      <td>73.20</td>\n",
       "      <td>95</td>\n",
       "      <td>-376.50</td>\n",
       "      <td>376.5</td>\n",
       "      <td>16.267474</td>\n",
       "      <td>1545.41</td>\n",
       "      <td>1</td>\n",
       "    </tr>\n",
       "  </tbody>\n",
       "</table>\n",
       "</div>"
      ],
      "text/plain": [
       "   CustomerID  Products0  Products1  Products2  Products3  Products4  \\\n",
       "0     12347.0     408.90    2796.26     105.80      459.7     539.34   \n",
       "1     12348.0     524.60    1230.88      41.76        0.0       0.00   \n",
       "2     12349.0     244.87    1145.48     138.15        0.0     229.05   \n",
       "3     12350.0       0.00     299.00      20.40        0.0      15.00   \n",
       "4     12352.0     257.60    1214.61       0.00        0.0      73.20   \n",
       "\n",
       "   PurchaseCount  PurchaseMin  PurchaseMax  PurchaseMean  PurchaseSum  Foreign  \n",
       "0            182         5.04        249.6     23.681319      4310.00        1  \n",
       "1             31        13.20        240.0     57.975484      1797.24        1  \n",
       "2             73         6.64        300.0     24.076027      1757.55        1  \n",
       "3             17         8.50         40.0     19.670588       334.40        1  \n",
       "4             95      -376.50        376.5     16.267474      1545.41        1  "
      ]
     },
     "execution_count": 1,
     "metadata": {},
     "output_type": "execute_result"
    }
   ],
   "source": [
    "import pandas as pd\n",
    "from sklearn.preprocessing import StandardScaler\n",
    "\n",
    "data = pd.read_csv('./data/customers.csv')\n",
    "data.head()"
   ]
  },
  {
   "cell_type": "code",
   "execution_count": 2,
   "metadata": {},
   "outputs": [],
   "source": [
    "customers = data.drop('CustomerID',axis=1)"
   ]
  },
  {
   "cell_type": "code",
   "execution_count": 3,
   "metadata": {},
   "outputs": [],
   "source": [
    "scaler = StandardScaler()\n",
    "scaled_customers = scaler.fit_transform(customers)"
   ]
  },
  {
   "cell_type": "code",
   "execution_count": 4,
   "metadata": {},
   "outputs": [
    {
     "data": {
      "text/html": [
       "<div>\n",
       "<style scoped>\n",
       "    .dataframe tbody tr th:only-of-type {\n",
       "        vertical-align: middle;\n",
       "    }\n",
       "\n",
       "    .dataframe tbody tr th {\n",
       "        vertical-align: top;\n",
       "    }\n",
       "\n",
       "    .dataframe thead th {\n",
       "        text-align: right;\n",
       "    }\n",
       "</style>\n",
       "<table border=\"1\" class=\"dataframe\">\n",
       "  <thead>\n",
       "    <tr style=\"text-align: right;\">\n",
       "      <th></th>\n",
       "      <th>Products0</th>\n",
       "      <th>Products1</th>\n",
       "      <th>Products2</th>\n",
       "      <th>Products3</th>\n",
       "      <th>Products4</th>\n",
       "      <th>PurchaseCount</th>\n",
       "      <th>PurchaseMin</th>\n",
       "      <th>PurchaseMax</th>\n",
       "      <th>PurchaseMean</th>\n",
       "      <th>PurchaseSum</th>\n",
       "      <th>Foreign</th>\n",
       "    </tr>\n",
       "  </thead>\n",
       "  <tbody>\n",
       "    <tr>\n",
       "      <th>0</th>\n",
       "      <td>0.165179</td>\n",
       "      <td>0.262983</td>\n",
       "      <td>0.024911</td>\n",
       "      <td>0.300287</td>\n",
       "      <td>0.438827</td>\n",
       "      <td>0.382407</td>\n",
       "      <td>0.095008</td>\n",
       "      <td>0.376228</td>\n",
       "      <td>-0.040763</td>\n",
       "      <td>0.293246</td>\n",
       "      <td>3.058668</td>\n",
       "    </tr>\n",
       "    <tr>\n",
       "      <th>1</th>\n",
       "      <td>0.262174</td>\n",
       "      <td>-0.010093</td>\n",
       "      <td>-0.099085</td>\n",
       "      <td>-0.153843</td>\n",
       "      <td>-0.169262</td>\n",
       "      <td>-0.267082</td>\n",
       "      <td>0.124396</td>\n",
       "      <td>0.348298</td>\n",
       "      <td>0.228506</td>\n",
       "      <td>-0.012427</td>\n",
       "      <td>3.058668</td>\n",
       "    </tr>\n",
       "    <tr>\n",
       "      <th>2</th>\n",
       "      <td>0.027667</td>\n",
       "      <td>-0.024991</td>\n",
       "      <td>0.087548</td>\n",
       "      <td>-0.153843</td>\n",
       "      <td>0.088985</td>\n",
       "      <td>-0.086430</td>\n",
       "      <td>0.100770</td>\n",
       "      <td>0.522858</td>\n",
       "      <td>-0.037663</td>\n",
       "      <td>-0.017255</td>\n",
       "      <td>3.058668</td>\n",
       "    </tr>\n",
       "    <tr>\n",
       "      <th>3</th>\n",
       "      <td>-0.177616</td>\n",
       "      <td>-0.172657</td>\n",
       "      <td>-0.140443</td>\n",
       "      <td>-0.153843</td>\n",
       "      <td>-0.152350</td>\n",
       "      <td>-0.327300</td>\n",
       "      <td>0.107469</td>\n",
       "      <td>-0.233567</td>\n",
       "      <td>-0.072254</td>\n",
       "      <td>-0.190378</td>\n",
       "      <td>3.058668</td>\n",
       "    </tr>\n",
       "    <tr>\n",
       "      <th>4</th>\n",
       "      <td>0.038339</td>\n",
       "      <td>-0.012931</td>\n",
       "      <td>-0.179942</td>\n",
       "      <td>-0.153843</td>\n",
       "      <td>-0.086731</td>\n",
       "      <td>0.008198</td>\n",
       "      <td>-1.279098</td>\n",
       "      <td>0.745421</td>\n",
       "      <td>-0.098974</td>\n",
       "      <td>-0.043061</td>\n",
       "      <td>3.058668</td>\n",
       "    </tr>\n",
       "  </tbody>\n",
       "</table>\n",
       "</div>"
      ],
      "text/plain": [
       "   Products0  Products1  Products2  Products3  Products4  PurchaseCount  \\\n",
       "0   0.165179   0.262983   0.024911   0.300287   0.438827       0.382407   \n",
       "1   0.262174  -0.010093  -0.099085  -0.153843  -0.169262      -0.267082   \n",
       "2   0.027667  -0.024991   0.087548  -0.153843   0.088985      -0.086430   \n",
       "3  -0.177616  -0.172657  -0.140443  -0.153843  -0.152350      -0.327300   \n",
       "4   0.038339  -0.012931  -0.179942  -0.153843  -0.086731       0.008198   \n",
       "\n",
       "   PurchaseMin  PurchaseMax  PurchaseMean  PurchaseSum   Foreign  \n",
       "0     0.095008     0.376228     -0.040763     0.293246  3.058668  \n",
       "1     0.124396     0.348298      0.228506    -0.012427  3.058668  \n",
       "2     0.100770     0.522858     -0.037663    -0.017255  3.058668  \n",
       "3     0.107469    -0.233567     -0.072254    -0.190378  3.058668  \n",
       "4    -1.279098     0.745421     -0.098974    -0.043061  3.058668  "
      ]
     },
     "execution_count": 4,
     "metadata": {},
     "output_type": "execute_result"
    }
   ],
   "source": [
    "scaled_customers = pd.DataFrame(scaled_customers, columns=customers.columns)\n",
    "scaled_customers.head()"
   ]
  },
  {
   "cell_type": "code",
   "execution_count": 5,
   "metadata": {},
   "outputs": [],
   "source": [
    "from sklearn.cluster import KMeans\n",
    "from sklearn.metrics import silhouette_score\n",
    "\n",
    "cluster_nums = range(2,8)\n",
    "scores = []"
   ]
  },
  {
   "cell_type": "code",
   "execution_count": 6,
   "metadata": {},
   "outputs": [],
   "source": [
    "for cluster_num in cluster_nums:\n",
    "    kmeans = KMeans(cluster_num)\n",
    "    \n",
    "    clusters = kmeans.fit_predict(scaled_customers)\n",
    "    silhouette = silhouette_score(scaled_customers, clusters)\n",
    "\n",
    "    scores.append(silhouette)"
   ]
  },
  {
   "cell_type": "code",
   "execution_count": 7,
   "metadata": {},
   "outputs": [],
   "source": [
    "import matplotlib.pyplot as plt"
   ]
  },
  {
   "cell_type": "code",
   "execution_count": 8,
   "metadata": {},
   "outputs": [
    {
     "data": {
      "image/png": "[encoded data removed]",
      "text/plain": [
       "<Figure size 432x288 with 1 Axes>"
      ]
     },
     "metadata": {
      "needs_background": "light"
     },
     "output_type": "display_data"
    }
   ],
   "source": [
    "plt.plot(cluster_nums, scores)\n",
    "plt.ylabel('Silhouette Score')\n",
    "plt.xlabel('Clusters')\n",
    "plt.show()"
   ]
  },
  {
   "cell_type": "code",
   "execution_count": 27,
   "metadata": {},
   "outputs": [
    {
     "data": {
      "text/plain": [
       "KMeans(n_clusters=3)"
      ]
     },
     "execution_count": 27,
     "metadata": {},
     "output_type": "execute_result"
    }
   ],
   "source": [
    "kmeans = KMeans(3)\n",
    "kmeans.fit(scaled_customers)"
   ]
  },
  {
   "cell_type": "code",
   "execution_count": 28,
   "metadata": {},
   "outputs": [
    {
     "data": {
      "text/plain": [
       "(3, 11)"
      ]
     },
     "execution_count": 28,
     "metadata": {},
     "output_type": "execute_result"
    }
   ],
   "source": [
    "scaler.inverse_transform(kmeans.cluster_centers_).shape"
   ]
  },
  {
   "cell_type": "code",
   "execution_count": 29,
   "metadata": {},
   "outputs": [
    {
     "data": {
      "text/plain": [
       "<AxesSubplot:>"
      ]
     },
     "execution_count": 29,
     "metadata": {},
     "output_type": "execute_result"
    },
    {
     "data": {
      "image/png": "[encoded data removed]",
      "text/plain": [
       "<Figure size 1080x360 with 2 Axes>"
      ]
     },
     "metadata": {
      "needs_background": "light"
     },
     "output_type": "display_data"
    }
   ],
   "source": [
    "import seaborn as sns\n",
    "\n",
    "plt.figure(figsize=(15,5))\n",
    "sns.heatmap(\n",
    "    scaler.inverse_transform(kmeans.cluster_centers_),\n",
    "    annot=True,\n",
    "    yticklabels=['Cluster1','Cluster2','Cluster3',],\n",
    "    xticklabels=scaled_customers.columns\n",
    ")"
   ]
  },
  {
   "cell_type": "code",
   "execution_count": 30,
   "metadata": {},
   "outputs": [
    {
     "data": {
      "text/html": [
       "<div>\n",
       "<style scoped>\n",
       "    .dataframe tbody tr th:only-of-type {\n",
       "        vertical-align: middle;\n",
       "    }\n",
       "\n",
       "    .dataframe tbody tr th {\n",
       "        vertical-align: top;\n",
       "    }\n",
       "\n",
       "    .dataframe thead th {\n",
       "        text-align: right;\n",
       "    }\n",
       "</style>\n",
       "<table border=\"1\" class=\"dataframe\">\n",
       "  <thead>\n",
       "    <tr style=\"text-align: right;\">\n",
       "      <th></th>\n",
       "      <th>CustomerID</th>\n",
       "      <th>Products0</th>\n",
       "      <th>Products1</th>\n",
       "      <th>Products2</th>\n",
       "      <th>Products3</th>\n",
       "      <th>Products4</th>\n",
       "      <th>PurchaseCount</th>\n",
       "      <th>PurchaseMin</th>\n",
       "      <th>PurchaseMax</th>\n",
       "      <th>PurchaseMean</th>\n",
       "      <th>PurchaseSum</th>\n",
       "      <th>Foreign</th>\n",
       "      <th>Cluster</th>\n",
       "    </tr>\n",
       "  </thead>\n",
       "  <tbody>\n",
       "    <tr>\n",
       "      <th>0</th>\n",
       "      <td>12347.0</td>\n",
       "      <td>408.90</td>\n",
       "      <td>2796.26</td>\n",
       "      <td>105.80</td>\n",
       "      <td>459.7</td>\n",
       "      <td>539.34</td>\n",
       "      <td>182</td>\n",
       "      <td>5.04</td>\n",
       "      <td>249.6</td>\n",
       "      <td>23.681319</td>\n",
       "      <td>4310.00</td>\n",
       "      <td>1</td>\n",
       "      <td>0</td>\n",
       "    </tr>\n",
       "    <tr>\n",
       "      <th>1</th>\n",
       "      <td>12348.0</td>\n",
       "      <td>524.60</td>\n",
       "      <td>1230.88</td>\n",
       "      <td>41.76</td>\n",
       "      <td>0.0</td>\n",
       "      <td>0.00</td>\n",
       "      <td>31</td>\n",
       "      <td>13.20</td>\n",
       "      <td>240.0</td>\n",
       "      <td>57.975484</td>\n",
       "      <td>1797.24</td>\n",
       "      <td>1</td>\n",
       "      <td>0</td>\n",
       "    </tr>\n",
       "    <tr>\n",
       "      <th>2</th>\n",
       "      <td>12349.0</td>\n",
       "      <td>244.87</td>\n",
       "      <td>1145.48</td>\n",
       "      <td>138.15</td>\n",
       "      <td>0.0</td>\n",
       "      <td>229.05</td>\n",
       "      <td>73</td>\n",
       "      <td>6.64</td>\n",
       "      <td>300.0</td>\n",
       "      <td>24.076027</td>\n",
       "      <td>1757.55</td>\n",
       "      <td>1</td>\n",
       "      <td>0</td>\n",
       "    </tr>\n",
       "    <tr>\n",
       "      <th>3</th>\n",
       "      <td>12350.0</td>\n",
       "      <td>0.00</td>\n",
       "      <td>299.00</td>\n",
       "      <td>20.40</td>\n",
       "      <td>0.0</td>\n",
       "      <td>15.00</td>\n",
       "      <td>17</td>\n",
       "      <td>8.50</td>\n",
       "      <td>40.0</td>\n",
       "      <td>19.670588</td>\n",
       "      <td>334.40</td>\n",
       "      <td>1</td>\n",
       "      <td>0</td>\n",
       "    </tr>\n",
       "    <tr>\n",
       "      <th>4</th>\n",
       "      <td>12352.0</td>\n",
       "      <td>257.60</td>\n",
       "      <td>1214.61</td>\n",
       "      <td>0.00</td>\n",
       "      <td>0.0</td>\n",
       "      <td>73.20</td>\n",
       "      <td>95</td>\n",
       "      <td>-376.50</td>\n",
       "      <td>376.5</td>\n",
       "      <td>16.267474</td>\n",
       "      <td>1545.41</td>\n",
       "      <td>1</td>\n",
       "      <td>0</td>\n",
       "    </tr>\n",
       "  </tbody>\n",
       "</table>\n",
       "</div>"
      ],
      "text/plain": [
       "   CustomerID  Products0  Products1  Products2  Products3  Products4  \\\n",
       "0     12347.0     408.90    2796.26     105.80      459.7     539.34   \n",
       "1     12348.0     524.60    1230.88      41.76        0.0       0.00   \n",
       "2     12349.0     244.87    1145.48     138.15        0.0     229.05   \n",
       "3     12350.0       0.00     299.00      20.40        0.0      15.00   \n",
       "4     12352.0     257.60    1214.61       0.00        0.0      73.20   \n",
       "\n",
       "   PurchaseCount  PurchaseMin  PurchaseMax  PurchaseMean  PurchaseSum  \\\n",
       "0            182         5.04        249.6     23.681319      4310.00   \n",
       "1             31        13.20        240.0     57.975484      1797.24   \n",
       "2             73         6.64        300.0     24.076027      1757.55   \n",
       "3             17         8.50         40.0     19.670588       334.40   \n",
       "4             95      -376.50        376.5     16.267474      1545.41   \n",
       "\n",
       "   Foreign  Cluster  \n",
       "0        1        0  \n",
       "1        1        0  \n",
       "2        1        0  \n",
       "3        1        0  \n",
       "4        1        0  "
      ]
     },
     "execution_count": 30,
     "metadata": {},
     "output_type": "execute_result"
    }
   ],
   "source": [
    "data['Cluster'] = kmeans.labels_\n",
    "data.head()"
   ]
  },
  {
   "cell_type": "code",
   "execution_count": 32,
   "metadata": {},
   "outputs": [
    {
     "data": {
      "text/plain": [
       "0    4336\n",
       "2      28\n",
       "1       6\n",
       "Name: Cluster, dtype: int64"
      ]
     },
     "execution_count": 32,
     "metadata": {},
     "output_type": "execute_result"
    }
   ],
   "source": [
    "data['Cluster'].value_counts()"
   ]
  },
  {
   "cell_type": "code",
   "execution_count": 33,
   "metadata": {},
   "outputs": [
    {
     "data": {
      "text/plain": [
       "<AxesSubplot:xlabel='PurchaseCount', ylabel='PurchaseSum'>"
      ]
     },
     "execution_count": 33,
     "metadata": {},
     "output_type": "execute_result"
    },
    {
     "data": {
      "image/png": "[encoded data removed]",
      "text/plain": [
       "<Figure size 432x288 with 2 Axes>"
      ]
     },
     "metadata": {
      "needs_background": "light"
     },
     "output_type": "display_data"
    }
   ],
   "source": [
    "data.plot.scatter(x='PurchaseCount', y='PurchaseSum', c='Cluster', colormap='viridis')"
   ]
  },
  {
   "cell_type": "code",
   "execution_count": null,
   "metadata": {},
   "outputs": [],
   "source": [
    "data.to_csv('./data/customers_clusters.csv', index=False)"
   ]
  }
 ],
 "metadata": {
  "interpreter": {
   "hash": "b44df07857b0c0412dcbd3fe4484bf5a5e104c5e4796f66ae6d9b3e1d54035fa"
  },
  "kernelspec": {
   "display_name": "Python 3.9.7 64-bit ('venv': venv)",
   "name": "python3"
  },
  "language_info": {
   "codemirror_mode": {
    "name": "ipython",
    "version": 3
   },
   "file_extension": ".py",
   "mimetype": "text/x-python",
   "name": "python",
   "nbconvert_exporter": "python",
   "pygments_lexer": "ipython3",
   "version": "3.9.7"
  },
  "orig_nbformat": 4
 },
 "nbformat": 4,
 "nbformat_minor": 2
}
